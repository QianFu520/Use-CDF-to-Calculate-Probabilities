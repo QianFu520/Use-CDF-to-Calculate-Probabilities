{
 "cells": [
  {
   "cell_type": "code",
   "execution_count": 1,
   "id": "a26bd587",
   "metadata": {},
   "outputs": [],
   "source": [
    "import pandas as pd\n",
    "import numpy as np\n",
    "import scipy.stats as stats"
   ]
  },
  {
   "cell_type": "code",
   "execution_count": 2,
   "id": "c3490e83",
   "metadata": {},
   "outputs": [
    {
     "data": {
      "text/html": [
       "<div>\n",
       "<style scoped>\n",
       "    .dataframe tbody tr th:only-of-type {\n",
       "        vertical-align: middle;\n",
       "    }\n",
       "\n",
       "    .dataframe tbody tr th {\n",
       "        vertical-align: top;\n",
       "    }\n",
       "\n",
       "    .dataframe thead th {\n",
       "        text-align: right;\n",
       "    }\n",
       "</style>\n",
       "<table border=\"1\" class=\"dataframe\">\n",
       "  <thead>\n",
       "    <tr style=\"text-align: right;\">\n",
       "      <th></th>\n",
       "      <th>Gender</th>\n",
       "      <th>Height</th>\n",
       "      <th>Weight</th>\n",
       "    </tr>\n",
       "  </thead>\n",
       "  <tbody>\n",
       "    <tr>\n",
       "      <th>0</th>\n",
       "      <td>Male</td>\n",
       "      <td>73.847017</td>\n",
       "      <td>241.893563</td>\n",
       "    </tr>\n",
       "    <tr>\n",
       "      <th>1</th>\n",
       "      <td>Male</td>\n",
       "      <td>68.781904</td>\n",
       "      <td>162.310473</td>\n",
       "    </tr>\n",
       "  </tbody>\n",
       "</table>\n",
       "</div>"
      ],
      "text/plain": [
       "  Gender     Height      Weight\n",
       "0   Male  73.847017  241.893563\n",
       "1   Male  68.781904  162.310473"
      ]
     },
     "execution_count": 2,
     "metadata": {},
     "output_type": "execute_result"
    }
   ],
   "source": [
    "df = pd.read_csv('weight-height - weight-height.csv')\n",
    "df.head(2)"
   ]
  },
  {
   "cell_type": "code",
   "execution_count": 3,
   "id": "f695a091",
   "metadata": {},
   "outputs": [],
   "source": [
    "females = df.loc[ df['Gender'] == 'Female'].copy()"
   ]
  },
  {
   "cell_type": "code",
   "execution_count": 4,
   "id": "76553753",
   "metadata": {},
   "outputs": [],
   "source": [
    "data = females['Height']"
   ]
  },
  {
   "cell_type": "code",
   "execution_count": 5,
   "id": "2338920a",
   "metadata": {},
   "outputs": [],
   "source": [
    "#set all the important stats, variables,and the range\n",
    "low_end = 55.0\n",
    "high_end = 56.0\n",
    "mean = np.mean(data)\n",
    "std = np.std(data)\n",
    "min = np.min(data)\n",
    "max = np.max(data)\n",
    "x_range = np.linspace(min, max,1000)"
   ]
  },
  {
   "cell_type": "code",
   "execution_count": 6,
   "id": "da261a29",
   "metadata": {},
   "outputs": [
    {
     "name": "stdout",
     "output_type": "stream",
     "text": [
      "0.0015043054289559745\n"
     ]
    }
   ],
   "source": [
    "#plot the normal CDF\n",
    "cdf = stats.norm.cdf(x_range, loc=mean, scale=std)\n",
    "print(stats.norm.cdf(high_end, loc=mean,scale=std) - stats.norm.cdf(low_end,loc=mean, scale=std))"
   ]
  },
  {
   "cell_type": "markdown",
   "id": "3f347b58",
   "metadata": {},
   "source": [
    "The probability of a female's height between 55.0 and 56.0 inches is: 1.5%."
   ]
  },
  {
   "cell_type": "code",
   "execution_count": 7,
   "id": "8d661982",
   "metadata": {},
   "outputs": [
    {
     "name": "stdout",
     "output_type": "stream",
     "text": [
      "0.0844649272520746\n"
     ]
    }
   ],
   "source": [
    "print(stats.norm.cdf(60, loc=mean,scale=std))"
   ]
  },
  {
   "cell_type": "markdown",
   "id": "c9ab71de",
   "metadata": {},
   "source": [
    "The probability of a female's height less than 5 feet is: 8.4%."
   ]
  },
  {
   "cell_type": "markdown",
   "id": "1b4cc2ed",
   "metadata": {},
   "source": [
    "This is a normal distribution data, So the probability of above or below the mean are both 50%."
   ]
  },
  {
   "cell_type": "code",
   "execution_count": null,
   "id": "4debecc0",
   "metadata": {},
   "outputs": [],
   "source": []
  }
 ],
 "metadata": {
  "kernelspec": {
   "display_name": "Python (dojo-env)",
   "language": "python",
   "name": "dojo-env"
  },
  "language_info": {
   "codemirror_mode": {
    "name": "ipython",
    "version": 3
   },
   "file_extension": ".py",
   "mimetype": "text/x-python",
   "name": "python",
   "nbconvert_exporter": "python",
   "pygments_lexer": "ipython3",
   "version": "3.8.13"
  },
  "toc": {
   "base_numbering": 1,
   "nav_menu": {},
   "number_sections": false,
   "sideBar": true,
   "skip_h1_title": false,
   "title_cell": "Table of Contents",
   "title_sidebar": "Contents",
   "toc_cell": false,
   "toc_position": {},
   "toc_section_display": true,
   "toc_window_display": false
  }
 },
 "nbformat": 4,
 "nbformat_minor": 5
}
